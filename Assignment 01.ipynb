{
 "cells": [
  {
   "cell_type": "markdown",
   "id": "15f13415",
   "metadata": {},
   "source": [
    "# Assignment 01"
   ]
  },
  {
   "cell_type": "markdown",
   "id": "0f56eb86",
   "metadata": {},
   "source": [
    "# Python Practice Problems"
   ]
  },
  {
   "cell_type": "markdown",
   "id": "3a8eb80b",
   "metadata": {},
   "source": [
    "1.Write a Python Program to accept the details of a student like name, roll number\n",
    "and mark and display it.\n",
    "Sample input: Enter the name: Anisha\n",
    "Enter the roll number: 21\n",
    "Enter the mark: 78\n",
    "Sample output:\n",
    "Name: Anisha\n",
    "Roll No: 21\n",
    "Mark: 78"
   ]
  },
  {
   "cell_type": "code",
   "execution_count": 45,
   "id": "44b5bb71",
   "metadata": {},
   "outputs": [
    {
     "name": "stdout",
     "output_type": "stream",
     "text": [
      "Enter the name:Name: Anjana C.A\n",
      "Enter the roll number:Roll No : 8004\n",
      "Enter the mark:Mark : 90\n",
      "Name: Anjana C.A\n",
      "Roll No : 8004\n",
      "Mark : 90\n"
     ]
    }
   ],
   "source": [
    "Name=input('Enter the name:')\n",
    "Roll_No=input('Enter the roll number:')\n",
    "Mark=input('Enter the mark:')\n",
    "print(Name)\n",
    "print(Roll_No)\n",
    "print(Mark)"
   ]
  },
  {
   "cell_type": "markdown",
   "id": "64c9e4a2",
   "metadata": {},
   "source": [
    "2. Write a Python program to convert temperatures to and from Celsius\n",
    "Fahrenheit. [Formula: c/5=f-32/9 where c=temperature in Celsius and f=\n",
    "temperature in Fahrenheit.] Sample input: Temperature in Fahrenheit =41\n",
    "Sample output: Temperature in Celsius =5"
   ]
  },
  {
   "cell_type": "code",
   "execution_count": 46,
   "id": "010c28e5",
   "metadata": {},
   "outputs": [
    {
     "name": "stdout",
     "output_type": "stream",
     "text": [
      "Temperature in Fahrenheit = 50\n",
      "Temperature in Celsius =  10.0\n"
     ]
    }
   ],
   "source": [
    "f=int(input('Temperature in Fahrenheit = '))\n",
    "print('Temperature in Celsius = ',((f-32)/9)*5)"
   ]
  },
  {
   "cell_type": "code",
   "execution_count": 47,
   "id": "89e18464",
   "metadata": {},
   "outputs": [
    {
     "name": "stdout",
     "output_type": "stream",
     "text": [
      "Temperature in Celsius = 4\n",
      "Temperature in Fahrenheit =  39.2\n"
     ]
    }
   ],
   "source": [
    "c=int(input('Temperature in Celsius = '))\n",
    "print('Temperature in Fahrenheit = ',(c/5)*9+32)"
   ]
  },
  {
   "cell_type": "markdown",
   "id": "a246dbcc",
   "metadata": {},
   "source": [
    "3. 1. Write a Python program to accept two numbers from the user and display its product."
   ]
  },
  {
   "cell_type": "code",
   "execution_count": 4,
   "id": "aaadf93b",
   "metadata": {},
   "outputs": [
    {
     "name": "stdout",
     "output_type": "stream",
     "text": [
      "Enter no1:3\n",
      "Enter no2:4\n",
      "12\n"
     ]
    }
   ],
   "source": [
    "a=int(input('Enter no1:'))\n",
    "b=int(input('Enter no2:'))\n",
    "print(a*b)"
   ]
  },
  {
   "cell_type": "markdown",
   "id": "d7cb77fc",
   "metadata": {},
   "source": [
    "4. Write a Python program to accept a string “Learn Python by Developing a Website” and display the string like “Learn**Python** by Developing a **Website**”"
   ]
  },
  {
   "cell_type": "code",
   "execution_count": 38,
   "id": "93d78a00",
   "metadata": {},
   "outputs": [
    {
     "name": "stdout",
     "output_type": "stream",
     "text": [
      "Learn**Python**byDevelopinga**Website**\n"
     ]
    }
   ],
   "source": [
    "a=\"Learn Python by Developing a Website\"\n",
    "\n",
    "\n",
    "b=a.split(\" \")\n",
    "b[1]=\"**\"+b[1]+\"**\"\n",
    "b[-1]=\"**\"+b[-1]+\"**\"\n",
    "b=''.join(b)\n",
    "\n",
    "\n",
    "print(b)"
   ]
  },
  {
   "cell_type": "markdown",
   "id": "b414f20c",
   "metadata": {},
   "source": [
    "5.Write a Python program to accept the radius of a circle and display its area."
   ]
  },
  {
   "cell_type": "code",
   "execution_count": 37,
   "id": "bc1dea74",
   "metadata": {},
   "outputs": [
    {
     "name": "stdout",
     "output_type": "stream",
     "text": [
      "enter the radius of circle:4\n",
      "area=  50.26548245743669\n"
     ]
    }
   ],
   "source": [
    "import math\n",
    "r=int(input('enter the radius of circle:'))\n",
    "print('area= ',math.pi*r*r)"
   ]
  },
  {
   "cell_type": "markdown",
   "id": "5915244d",
   "metadata": {},
   "source": [
    "6. Python program to insert a number to any position in a list (Get the number to\n",
    "be inserted and position from the user)"
   ]
  },
  {
   "cell_type": "code",
   "execution_count": 2,
   "id": "a4a6a985",
   "metadata": {},
   "outputs": [
    {
     "name": "stdout",
     "output_type": "stream",
     "text": [
      "enter the no to be inserted:5\n",
      "enter the position:2\n"
     ]
    }
   ],
   "source": [
    "l4=[4,3,8,10,98,34]\n",
    "ins=int(input('enter the no to be inserted:'))\n",
    "pos=int(input('enter the position:'))\n",
    "l4.insert(pos,ins)"
   ]
  },
  {
   "cell_type": "code",
   "execution_count": 3,
   "id": "4570e8bd",
   "metadata": {},
   "outputs": [
    {
     "data": {
      "text/plain": [
       "[4, 3, 5, 8, 10, 98, 34]"
      ]
     },
     "execution_count": 3,
     "metadata": {},
     "output_type": "execute_result"
    }
   ],
   "source": [
    "l4"
   ]
  },
  {
   "cell_type": "markdown",
   "id": "eeb042b7",
   "metadata": {},
   "source": [
    "7. Write a program to rename a key city to a location in the following dictionary.\n",
    "sample_dict = { \"name\": \"John\", \"age\":5, \"salary\": 8000, \"city\": \"New York\"}\n"
   ]
  },
  {
   "cell_type": "code",
   "execution_count": 13,
   "id": "e0138105",
   "metadata": {},
   "outputs": [],
   "source": [
    "sample_dict = { \"name\": \"John\", \"age\":5, \"salary\": 8000, \"city\": \"New York\"}"
   ]
  },
  {
   "cell_type": "code",
   "execution_count": 14,
   "id": "c3b525b0",
   "metadata": {},
   "outputs": [],
   "source": [
    "# rename key in dictionary\n",
    "sample_dict['location'] = sample_dict.pop('city')"
   ]
  },
  {
   "cell_type": "code",
   "execution_count": 15,
   "id": "b8f1d297",
   "metadata": {},
   "outputs": [
    {
     "name": "stdout",
     "output_type": "stream",
     "text": [
      "{'name': 'John', 'age': 5, 'salary': 8000, 'location': 'New York'}\n"
     ]
    }
   ],
   "source": [
    "# display the dictionary\n",
    "print(sample_dict)"
   ]
  },
  {
   "cell_type": "markdown",
   "id": "e89432b0",
   "metadata": {},
   "source": [
    "8. Write a Python program to change Brad’s salary to 8500 in the following\n",
    "dictionary.\n",
    "sample_dict = {\n",
    "'emp1': {'name': 'John', 'salary': 7500},\n",
    "'emp2': {'name': 'Emma', 'salary': 8000},\n",
    "'emp3': {'name': 'Brad', 'salary': 500}\n",
    "}"
   ]
  },
  {
   "cell_type": "code",
   "execution_count": 16,
   "id": "7b8e2aa5",
   "metadata": {},
   "outputs": [],
   "source": [
    "sample_dict = { 'emp1': {'name': 'John', 'salary': 7500}, 'emp2': {'name': 'Emma', 'salary': 8000}, 'emp3': {'name': 'Brad', 'salary': 500} }"
   ]
  },
  {
   "cell_type": "code",
   "execution_count": 21,
   "id": "ea36ee64",
   "metadata": {},
   "outputs": [],
   "source": [
    "sample_dict['emp3']['salary']=8500"
   ]
  },
  {
   "cell_type": "code",
   "execution_count": 22,
   "id": "333e53ff",
   "metadata": {},
   "outputs": [
    {
     "data": {
      "text/plain": [
       "{'emp1': {'name': 'John', 'salary': 7500},\n",
       " 'emp2': {'name': 'Emma', 'salary': 8000},\n",
       " 'emp3': {'name': 'Brad', 'salary': 8500}}"
      ]
     },
     "execution_count": 22,
     "metadata": {},
     "output_type": "execute_result"
    }
   ],
   "source": [
    "sample_dict"
   ]
  },
  {
   "cell_type": "markdown",
   "id": "3dbed9fc",
   "metadata": {},
   "source": [
    "9. Write a program to copy elements 43 and 54 from the following tuple into a\n",
    "new tuple. Given:\n",
    "tuple1 = (10, 20, 43, 54, 56, 68)\n"
   ]
  },
  {
   "cell_type": "code",
   "execution_count": 27,
   "id": "58fe84e6",
   "metadata": {},
   "outputs": [],
   "source": [
    "tuple1 = (10, 20, 43, 54, 56, 68)"
   ]
  },
  {
   "cell_type": "code",
   "execution_count": 29,
   "id": "bf313427",
   "metadata": {},
   "outputs": [
    {
     "name": "stdout",
     "output_type": "stream",
     "text": [
      "(43, 54)\n"
     ]
    }
   ],
   "source": [
    "tuple2 = tuple1[2:4]\n",
    "print(tuple2)"
   ]
  },
  {
   "cell_type": "markdown",
   "id": "84d13747",
   "metadata": {},
   "source": [
    "10. Counts the number of occurrences of item 50 from a tuple\n",
    "tuple1 = (50, 10, 60, 70, 50,83,567,50,81)"
   ]
  },
  {
   "cell_type": "code",
   "execution_count": 25,
   "id": "7e1f3546",
   "metadata": {},
   "outputs": [],
   "source": [
    "tuple1 = (50, 10, 60, 70, 50,83,567,50,81)"
   ]
  },
  {
   "cell_type": "code",
   "execution_count": 26,
   "id": "4564e609",
   "metadata": {},
   "outputs": [
    {
     "data": {
      "text/plain": [
       "3"
      ]
     },
     "execution_count": 26,
     "metadata": {},
     "output_type": "execute_result"
    }
   ],
   "source": [
    "tuple1.count(50)"
   ]
  },
  {
   "cell_type": "code",
   "execution_count": null,
   "id": "90d2e48f",
   "metadata": {},
   "outputs": [],
   "source": []
  }
 ],
 "metadata": {
  "kernelspec": {
   "display_name": "Python 3 (ipykernel)",
   "language": "python",
   "name": "python3"
  },
  "language_info": {
   "codemirror_mode": {
    "name": "ipython",
    "version": 3
   },
   "file_extension": ".py",
   "mimetype": "text/x-python",
   "name": "python",
   "nbconvert_exporter": "python",
   "pygments_lexer": "ipython3",
   "version": "3.9.13"
  }
 },
 "nbformat": 4,
 "nbformat_minor": 5
}
