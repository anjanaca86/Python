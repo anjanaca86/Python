{
 "cells": [
  {
   "cell_type": "markdown",
   "id": "a6185c69",
   "metadata": {},
   "source": [
    "# Case Study 01"
   ]
  },
  {
   "cell_type": "markdown",
   "id": "ee22d077",
   "metadata": {},
   "source": [
    "1. A school has following rules for grading system:\n",
    "a. Below 25 - F\n",
    "b. 25 to 45 - E\n",
    "c. 45 to 50 - D\n",
    "d. 50 to 60 - C\n",
    "e. 60 to 80 - B\n",
    "f. Above 80 - A\n",
    "Ask user to enter marks and print the corresponding grade."
   ]
  },
  {
   "cell_type": "code",
   "execution_count": 2,
   "id": "982db2ff",
   "metadata": {},
   "outputs": [
    {
     "name": "stdout",
     "output_type": "stream",
     "text": [
      "Enter your score:90\n",
      "A\n"
     ]
    }
   ],
   "source": [
    "score = int(input(\"Enter your score:\"))\n",
    "if score < 25:  \n",
    "    print(\"F\")\n",
    "elif score >= 25 and score < 45:  \n",
    "    print(\"E\")\n",
    "elif score >= 45 and score < 50:  \n",
    "    print(\"D\")\n",
    "elif score >= 50 and score < 60:  \n",
    "    print(\"C\")\n",
    "elif score >= 60 and score < 80:  \n",
    "    print(\"B\")\n",
    "else:  \n",
    "    print(\"A\")"
   ]
  },
  {
   "cell_type": "markdown",
   "id": "edf1d29c",
   "metadata": {},
   "source": [
    "2. You have a list of names. Create a new list which contains only the names with non-repeating characters.\n",
    "Sample input = ['John','Peter','Meera','Mini','Krishna']\n",
    "Sample output = ['John','Krishna']"
   ]
  },
  {
   "cell_type": "code",
   "execution_count": 8,
   "id": "3a2a842b",
   "metadata": {},
   "outputs": [
    {
     "name": "stdout",
     "output_type": "stream",
     "text": [
      "['John', 'Krishna']\n"
     ]
    }
   ],
   "source": [
    "mylist=['John','Peter','Meera','Mini','Krishna']\n",
    "\n",
    "def has_repeated_chars(string):\n",
    "    for char in string:\n",
    "        if string.count(char)>1:\n",
    "            string=\"\"\n",
    "    return string\n",
    "a=[has_repeated_chars(item) for item in mylist]\n",
    "while(\"\" in a):\n",
    "    a.remove(\"\")\n",
    "print(a)"
   ]
  },
  {
   "cell_type": "markdown",
   "id": "55054c5b",
   "metadata": {},
   "source": [
    "3. Take values of length and breadth of a rectangle from user and check if it is square or not."
   ]
  },
  {
   "cell_type": "code",
   "execution_count": 5,
   "id": "682d62f7",
   "metadata": {},
   "outputs": [
    {
     "name": "stdout",
     "output_type": "stream",
     "text": [
      "length of a rectangle:4\n",
      "breadth of a rectangle:4\n",
      "It is square\n"
     ]
    }
   ],
   "source": [
    "length=int(input('length of a rectangle:'))\n",
    "breadth=int(input('breadth of a rectangle:'))\n",
    "if length==breadth:\n",
    "   print(\"It is square\")\n",
    "else:\n",
    "    print(\"It is not square\")"
   ]
  },
  {
   "cell_type": "markdown",
   "id": "ac4149df",
   "metadata": {},
   "source": [
    "4. A student will not be allowed to sit in exam if his/her attendance is less than 75%. Take following input from user Number of classes held Number of classes attended. And print percentage of class attended Is student is allowed to sit in exam or not."
   ]
  },
  {
   "cell_type": "code",
   "execution_count": 8,
   "id": "656374d3",
   "metadata": {},
   "outputs": [
    {
     "name": "stdout",
     "output_type": "stream",
     "text": [
      "No. of classes held:60\n",
      "No. of classes attended:50\n",
      "Your attendance percentage is  83.33333333333334 %\n",
      "Satisfactory attendance percentage. You are allowed to sit in exam.\n"
     ]
    }
   ],
   "source": [
    "a = int(input(\"No. of classes held:\"))\n",
    "b = int(input(\"No. of classes attended:\"))\n",
    "p = (b/a)*100\n",
    "print(\"Your attendance percentage is \",p,\"%\")\n",
    "if (p<75): \n",
    "    print(\"Low attendance percentage. You are not allowed to sit in exam.\")\n",
    "else:\n",
    "    print(\"Satisfactory attendance percentage. You are allowed to sit in exam.\")"
   ]
  },
  {
   "cell_type": "markdown",
   "id": "5497dce6",
   "metadata": {},
   "source": [
    "5. Create a list by taking length of the list and elements of the list from user.Then find the sum of the elements of the list. Also create a new called even list which contains only even numbers from first list and odd list which contains odd numbers from the list.\n",
    "Sample input:\n",
    "Length of the list = 5\n",
    "List1 = [2,6,3,1,5]\n",
    "Sum = 17\n",
    "Even_list=[2,6]\n",
    "Odd_list=[3,1,5]"
   ]
  },
  {
   "cell_type": "code",
   "execution_count": 21,
   "id": "93e11d47",
   "metadata": {},
   "outputs": [
    {
     "name": "stdout",
     "output_type": "stream",
     "text": [
      "length of the list:6\n",
      "Enter the elements of the list1\n",
      "Enter the elements of the list2\n",
      "Enter the elements of the list3\n",
      "Enter the elements of the list4\n",
      "Enter the elements of the list5\n",
      "Enter the elements of the list6\n",
      "list: [1, 2, 3, 4, 5, 6]\n",
      "sum: 21\n",
      "Even_list: [2, 4, 6]\n",
      "Odd_list: [1, 3, 5]\n"
     ]
    }
   ],
   "source": [
    "l=[]\n",
    "n=int(input('length of the list:'))\n",
    "for i in range(1,n+1):\n",
    "    x=int(input('Enter the elements of the list'))\n",
    "    l.append(x)\n",
    "print('list:',l)\n",
    "total=0\n",
    "for ele in range(0,n):\n",
    "    total=total+l[ele]\n",
    "print(\"sum:\",total)\n",
    "e=[]\n",
    "for num in l:\n",
    "    if num%2==0:\n",
    "        e.append(num)\n",
    "print(\"Even_list:\",e)\n",
    "o=[]\n",
    "for num in l:\n",
    "    if num%2!=0:\n",
    "        o.append(num)\n",
    "print(\"Odd_list:\",o)\n"
   ]
  },
  {
   "cell_type": "markdown",
   "id": "4b7b42a3",
   "metadata": {},
   "source": [
    "6. Create a sample chatbot for an ecommerce website"
   ]
  },
  {
   "cell_type": "code",
   "execution_count": 22,
   "id": "194ddaa3",
   "metadata": {},
   "outputs": [
    {
     "name": "stdout",
     "output_type": "stream",
     "text": [
      "Welcome to NBlue\n",
      "Enter Quit to stop:hi\n",
      "hi\n",
      "Enter Quit to stop:dress materials\n",
      "Please visit www.nblue.in for more details\n",
      "Enter Quit to stop:blue color\n",
      "yes we have variety of colors, Please visit www.nblue.in\n",
      "Enter Quit to stop:is size small available \n",
      "we have small, medium, XL, XXL\n",
      "Enter Quit to stop:\n",
      "Please give a valid input\n",
      "Enter Quit to stop:scalf\n",
      "sorry, its out of stock\n",
      "Enter Quit to stop:quit\n",
      "Thank you!\n"
     ]
    }
   ],
   "source": [
    "print('Welcome to NBlue')\n",
    "while True:\n",
    "    x=input('Enter Quit to stop:')\n",
    "    x=x.lower()\n",
    "    if x=='quit':\n",
    "        print('Thank you!')\n",
    "        break\n",
    "    y=x.split()\n",
    "    if len(y)==0:\n",
    "        print('Please give a valid input')\n",
    "    elif 'hi' in y:\n",
    "        print('hi')\n",
    "    elif 'dress' in y:\n",
    "        print('Please visit www.nblue.in for more details')\n",
    "    elif 'color' in y:\n",
    "        print('yes we have variety of colors, Please visit www.nblue.in')\n",
    "    elif 'size' in y:\n",
    "        print('we have small, medium, XL, XXL')\n",
    "    else:\n",
    "        print('sorry, its out of stock')\n",
    "        \n"
   ]
  },
  {
   "cell_type": "markdown",
   "id": "0ec6fc4c",
   "metadata": {},
   "source": [
    "7. Write a program to find the roots of a quadratic equation. Get the coefficients of quadratic equation ax^2+bx+c and display whether the roots are real and equal or real and distinct or roots are imaginary. You have to find the roots and display it as well. "
   ]
  },
  {
   "cell_type": "code",
   "execution_count": 25,
   "id": "62e7f4e6",
   "metadata": {},
   "outputs": [
    {
     "name": "stdout",
     "output_type": "stream",
     "text": [
      "Enter a: 3\n",
      "Enter b: 6\n",
      "Enter c: 8\n",
      "The value of discriminant is  -60\n",
      "The roots of this quadratic equations are (-5.999999999999999+11.618950038622252j) and (5.999999999999999-11.618950038622252j)\n",
      "the roots are imaginary and unequal\n"
     ]
    }
   ],
   "source": [
    "a=int(input(\"Enter a: \"))\n",
    "b=int(input(\"Enter b: \"))\n",
    "c=int(input(\"Enter c: \"))\n",
    "D=(b**2)-(4*a*c)\n",
    "print(\"The value of discriminant is \",D)\n",
    "sol1=(-b+D**0.5/2*a)\n",
    "sol2=(+b-D**0.5/2*a)\n",
    "print(\"The roots of this quadratic equations are\",sol1,\"and\",sol2)\n",
    "\n",
    "if D>0:\n",
    "    print(\"the roots are real and distinct\")\n",
    "elif D==0:\n",
    "    print(\"the roots are real and equal\")\n",
    "else:\n",
    "    print(\"the roots are imaginary and unequal\")\n"
   ]
  },
  {
   "cell_type": "markdown",
   "id": "f1895d6b",
   "metadata": {},
   "source": [
    "8. Given a range of first 10 numbers, write a Python program to iterate from start number to the end number and print the sum of the current number and previous number.\n",
    "Sample input: 1….10\n",
    "Sample output: Current Number 1 Previous Number 0 Sum: 1\n",
    "Current Number 2 Previous Number 1 Sum: 3\n",
    "Current Number 3 Previous Number 2 Sum: 5…\n",
    "…….\n",
    "Current Number 10 Previous Number 9 Sum: 19"
   ]
  },
  {
   "cell_type": "code",
   "execution_count": 7,
   "id": "cb93fdb6",
   "metadata": {},
   "outputs": [
    {
     "name": "stdout",
     "output_type": "stream",
     "text": [
      "Current number 0 Previous Number 0 sum:0\n",
      "Current number 1 Previous Number 0 sum:1\n",
      "Current number 2 Previous Number 1 sum:3\n",
      "Current number 3 Previous Number 2 sum:5\n",
      "Current number 4 Previous Number 3 sum:7\n",
      "Current number 5 Previous Number 4 sum:9\n",
      "Current number 6 Previous Number 5 sum:11\n",
      "Current number 7 Previous Number 6 sum:13\n",
      "Current number 8 Previous Number 7 sum:15\n",
      "Current number 9 Previous Number 8 sum:17\n",
      "Current number 10 Previous Number 9 sum:19\n"
     ]
    }
   ],
   "source": [
    "previous_num = 0\n",
    "for i in range(11):\n",
    "    sum = previous_num + i\n",
    "    print(f'Current number {i} Previous Number {previous_num} sum:{sum}')\n",
    "    previous_num = i"
   ]
  },
  {
   "cell_type": "markdown",
   "id": "cdfd8ecf",
   "metadata": {},
   "source": [
    "9. Write a Python program to find the prime numbers in a given range. Get the range from user and print prime numbers in that range."
   ]
  },
  {
   "cell_type": "code",
   "execution_count": 2,
   "id": "5829f371",
   "metadata": {},
   "outputs": [
    {
     "name": "stdout",
     "output_type": "stream",
     "text": [
      "Enter the Lowest Range Value: 14\n",
      "Enter the Upper Range Value: 97\n",
      "The Prime Numbers in the range are: \n",
      "17\n",
      "19\n",
      "23\n",
      "29\n",
      "31\n",
      "37\n",
      "41\n",
      "43\n",
      "47\n",
      "53\n",
      "59\n",
      "61\n",
      "67\n",
      "71\n",
      "73\n",
      "79\n",
      "83\n",
      "89\n",
      "97\n"
     ]
    }
   ],
   "source": [
    "lower_value = int(input (\"Enter the Lowest Range Value: \"))  \n",
    "upper_value = int(input (\"Enter the Upper Range Value: \"))  \n",
    "  \n",
    "print (\"The Prime Numbers in the range are: \")  \n",
    "for number in range (lower_value, upper_value + 1):  \n",
    "    if number > 1:  \n",
    "        for i in range (2, number):  \n",
    "            if (number % i) == 0:  \n",
    "                break  \n",
    "        else:  \n",
    "            print (number)"
   ]
  },
  {
   "cell_type": "markdown",
   "id": "c452651b",
   "metadata": {},
   "source": [
    "10. Write a Python program to print Fibonacci series in a given range. Get the range from user and print fibonacci numbers in that range."
   ]
  },
  {
   "cell_type": "code",
   "execution_count": 3,
   "id": "f12c9647",
   "metadata": {},
   "outputs": [
    {
     "name": "stdout",
     "output_type": "stream",
     "text": [
      "10\n",
      "0 1 1 2 3 5 8 13 21 34 "
     ]
    }
   ],
   "source": [
    "n=int(input())\n",
    "a=0\n",
    "b=1\n",
    "s=0\n",
    "\n",
    "for x in range(n):\n",
    "    print(s,end=\" \")\n",
    "    s=a+b\n",
    "    b=a\n",
    "    a=s"
   ]
  },
  {
   "cell_type": "code",
   "execution_count": null,
   "id": "11563cce",
   "metadata": {},
   "outputs": [],
   "source": []
  }
 ],
 "metadata": {
  "kernelspec": {
   "display_name": "Python 3 (ipykernel)",
   "language": "python",
   "name": "python3"
  },
  "language_info": {
   "codemirror_mode": {
    "name": "ipython",
    "version": 3
   },
   "file_extension": ".py",
   "mimetype": "text/x-python",
   "name": "python",
   "nbconvert_exporter": "python",
   "pygments_lexer": "ipython3",
   "version": "3.9.13"
  }
 },
 "nbformat": 4,
 "nbformat_minor": 5
}
