{
 "cells": [
  {
   "cell_type": "markdown",
   "id": "a8019404",
   "metadata": {},
   "source": [
    "# Case Study 2"
   ]
  },
  {
   "cell_type": "markdown",
   "id": "351f43ce",
   "metadata": {},
   "source": [
    "1. Write a Python function to sum all the numbers in a list. (Create a list and\n",
    "get list elements from user)"
   ]
  },
  {
   "cell_type": "code",
   "execution_count": 4,
   "id": "d1bba4d5",
   "metadata": {},
   "outputs": [
    {
     "name": "stdout",
     "output_type": "stream",
     "text": [
      "length of the list:5\n",
      "Enter the elements of the list1\n",
      "Enter the elements of the list2\n",
      "Enter the elements of the list3\n",
      "Enter the elements of the list4\n",
      "Enter the elements of the list5\n",
      "list: [1, 2, 3, 4, 5]\n",
      "sum: 15\n"
     ]
    }
   ],
   "source": [
    "l=[]\n",
    "n=int(input('length of the list:'))\n",
    "for i in range(1,n+1):\n",
    "    x=int(input('Enter the elements of the list:'))\n",
    "    l.append(x)\n",
    "print('list:',l)\n",
    "total=0\n",
    "for ele in range(0,n):\n",
    "    total=total+l[ele]\n",
    "print(\"sum:\",total)"
   ]
  },
  {
   "cell_type": "markdown",
   "id": "c9f9b038",
   "metadata": {},
   "source": [
    "2. Write a Python function that checks whether a passed string is\n",
    "palindrome or not."
   ]
  },
  {
   "cell_type": "code",
   "execution_count": 3,
   "id": "ec91a0df",
   "metadata": {},
   "outputs": [
    {
     "name": "stdout",
     "output_type": "stream",
     "text": [
      "True\n"
     ]
    }
   ],
   "source": [
    "def isPalindrome(string):\n",
    "    left_pos = 0\n",
    "    right_pos = len(string) - 1\n",
    "\n",
    "    while right_pos >= left_pos:\n",
    "        if not string[left_pos] == string[right_pos]:\n",
    "            return False\n",
    "        left_pos += 1\n",
    "        right_pos -= 1\n",
    "    return True\n",
    "print(isPalindrome('malayalam')) "
   ]
  },
  {
   "cell_type": "markdown",
   "id": "e8b14015",
   "metadata": {},
   "source": [
    "3.Write a Python recursive function to find the Fibonacci series. Get the limit\n",
    "from the user"
   ]
  },
  {
   "cell_type": "code",
   "execution_count": 4,
   "id": "58b6d3f8",
   "metadata": {},
   "outputs": [
    {
     "name": "stdout",
     "output_type": "stream",
     "text": [
      "Enter number of terms:4\n",
      "Fibonacci sequence:\n",
      "0\n",
      "1\n",
      "1\n",
      "2\n"
     ]
    }
   ],
   "source": [
    "def fibonacci(n):\n",
    "    if(n <= 1):\n",
    "        return n\n",
    "    else:\n",
    "        return(fibonacci(n-1) + fibonacci(n-2))\n",
    "n = int(input(\"Enter number of terms:\"))\n",
    "print(\"Fibonacci sequence:\")\n",
    "for i in range(n):\n",
    "    print(fibonacci(i))"
   ]
  },
  {
   "cell_type": "markdown",
   "id": "0b86f270",
   "metadata": {},
   "source": [
    "4.Write a Python recursive function to print the multiplication table of\n",
    "given number"
   ]
  },
  {
   "cell_type": "code",
   "execution_count": 5,
   "id": "baf3c397",
   "metadata": {},
   "outputs": [
    {
     "name": "stdout",
     "output_type": "stream",
     "text": [
      "Enter any Number  :4\n",
      "4  *  1  =  4\n",
      "4  *  2  =  8\n",
      "4  *  3  =  12\n",
      "4  *  4  =  16\n",
      "4  *  5  =  20\n",
      "4  *  6  =  24\n",
      "4  *  7  =  28\n",
      "4  *  8  =  32\n",
      "4  *  9  =  36\n",
      "4  *  10  =  40\n"
     ]
    },
    {
     "data": {
      "text/plain": [
       "1"
      ]
     },
     "execution_count": 5,
     "metadata": {},
     "output_type": "execute_result"
    }
   ],
   "source": [
    "def rec_multiplication(num,count):\n",
    "  if( count < 11):\n",
    "     print(num,\" * \",count,\" = \",num * count)\n",
    "     return rec_multiplication(num,count + 1)\n",
    "  else:\n",
    "    return 1\n",
    "n = int(input(\"Enter any Number  :\"))\n",
    "rec_multiplication(n,1)"
   ]
  },
  {
   "cell_type": "markdown",
   "id": "8806bffe",
   "metadata": {},
   "source": [
    "5. Define a function which counts vowels and consonant in a word."
   ]
  },
  {
   "cell_type": "code",
   "execution_count": 10,
   "id": "67f2203c",
   "metadata": {},
   "outputs": [
    {
     "name": "stdout",
     "output_type": "stream",
     "text": [
      "Please enter a string as you wish: python\n",
      "The number of vowels: 1\n",
      "The number of consonant: 5\n"
     ]
    }
   ],
   "source": [
    "#Python program to count vowel or consonant of the given string\n",
    "str=input(\"Please enter a string as you wish: \")\n",
    "vowels=0\n",
    "consonants=0\n",
    "str=str.lower()#call the lower function to avoid upper case letter\n",
    "for i in str:\n",
    "    if(i == 'a'or i == 'e'or i == 'i'or i == 'o'or i == 'u' ):\n",
    "           vowels=vowels+1\n",
    "    else:\n",
    "        consonants=consonants+1\n",
    "print(\"The number of vowels:\",vowels)\n",
    "print(\"The number of consonant:\",consonants)"
   ]
  },
  {
   "cell_type": "markdown",
   "id": "c6833b85",
   "metadata": {},
   "source": [
    "6. Define a function that accepts lowercase words and returns uppercase\n",
    "words."
   ]
  },
  {
   "cell_type": "code",
   "execution_count": 11,
   "id": "860354ee",
   "metadata": {},
   "outputs": [
    {
     "name": "stdout",
     "output_type": "stream",
     "text": [
      "Please enter a string as you wish: python\n",
      "PYTHON\n"
     ]
    }
   ],
   "source": [
    "message=input(\"Please enter a string as you wish: \")\n",
    "print(message.upper())\n"
   ]
  },
  {
   "cell_type": "markdown",
   "id": "d9815392",
   "metadata": {},
   "source": [
    "7. Write a Python program to remove ‘None’ values from a given list using\n",
    "the lambda function."
   ]
  },
  {
   "cell_type": "code",
   "execution_count": 15,
   "id": "a4166ace",
   "metadata": {},
   "outputs": [
    {
     "name": "stdout",
     "output_type": "stream",
     "text": [
      "Original list:\n",
      "[12, 0, None, 23, None, -55, 234, 89, None, 0, 6, -12]\n",
      "New list:\n",
      "[12, 0, 23, -55, 234, 89, 0, 6, -12]\n"
     ]
    }
   ],
   "source": [
    "def remove_none(nums):\n",
    "    result = filter(lambda v: v is not None, nums)\n",
    "    return list(result)\n",
    "\n",
    "nums = [12, 0, None, 23, None, -55, 234, 89, None, 0, 6, -12]\n",
    "print(\"Original list:\")\n",
    "print(nums)\n",
    "print(\"New list:\")\n",
    "print(remove_none(nums))\n"
   ]
  },
  {
   "cell_type": "markdown",
   "id": "3f73b0c2",
   "metadata": {},
   "source": [
    "8. Write a Rectangle class in Python language, allowing you to build a\n",
    "rectangle with length and width attributes.\n",
    "a. Create a Perimeter() method to calculate the perimeter of the\n",
    "rectangle and a Area() method to calculate the area of the rectangle.\n",
    "b. Create a method display() that display the length, width, perimeter\n",
    "and area of an object created using an instantiation on rectangle\n",
    "class.\n",
    "c. Create a Parallelepiped child class inheriting from the Rectangle\n",
    "class and with a height attribute and another Volume() method to\n",
    "calculate the volume of the Parallelepiped."
   ]
  },
  {
   "cell_type": "code",
   "execution_count": 2,
   "id": "aeb650d1",
   "metadata": {},
   "outputs": [
    {
     "name": "stdout",
     "output_type": "stream",
     "text": [
      "Area=120\n",
      "(10, 12, 'Area=120', 'Perimeter=44')\n"
     ]
    }
   ],
   "source": [
    "class Rectangle():\n",
    "    def __init__(self,length,width):\n",
    "        self.length =length\n",
    "        self.width  =width\n",
    "\n",
    "    def rectangle_area(self):\n",
    "        return \"Area=\"+str(self.length*self.width)\n",
    "    \n",
    "    def rectangle_perimeter(self):\n",
    "        return \"Perimeter=\"+str(2*(self.length+self.width))\n",
    "    \n",
    "    def display(self):\n",
    "        return (self.length,self.width,self.rectangle_area(),self.rectangle_perimeter())\n",
    "\n",
    "a=Rectangle(10,12)\n",
    "area=a.rectangle_area()\n",
    "print(area)\n",
    "\n",
    "display=a.display()\n",
    "print(display)"
   ]
  },
  {
   "cell_type": "markdown",
   "id": "53c8c2d3",
   "metadata": {},
   "source": [
    "9. Create a Python class called BankAccount which represents a bank\n",
    "account, having as attributes: accountNumber (numeric type), name\n",
    "(name of the account owner as string type), balance.\n",
    "a. Create a constructor with parameters: accountNumber, name,\n",
    "balance.\n",
    "b. Create a Deposit() method which manages the deposit actions.\n",
    "c. Create a Withdrawal() method which manages withdrawals\n",
    "actions.\n",
    "d. Create an bankFees() method to apply the bank fees with a\n",
    "percentage of 5% of the balance account.\n",
    "e. Create a display() method to display account details.\n",
    "f. Give the complete code for the BankAccount class."
   ]
  },
  {
   "cell_type": "code",
   "execution_count": 4,
   "id": "ef0abee9",
   "metadata": {},
   "outputs": [
    {
     "name": "stdout",
     "output_type": "stream",
     "text": [
      "Account Number :  2178514584\n",
      "Account Name :  ANJANA\n",
      "Account Balance :  26900\n"
     ]
    }
   ],
   "source": [
    "class BankAccount:\n",
    "     \n",
    "    def __init__(self,accountNumber, name, balance):\n",
    "        self.accountNumber = accountNumber\n",
    "        self.name = name\n",
    "        self.balance = balance\n",
    "        \n",
    "    \n",
    "    def Deposit(self , d ):\n",
    "        self.balance = self.balance + d\n",
    "    \n",
    "    \n",
    "    def Withdrawal(self , w):\n",
    "        if(self.balance < w):\n",
    "            print(\"impossible operation! Insufficient balance !\")\n",
    "        else:\n",
    "            self.balance = self.balance - w\n",
    "    \n",
    "    def bankFees(self):\n",
    "        self.balance = (95/100)*self.balance\n",
    "        \n",
    "    \n",
    "    def display(self):\n",
    "        print(\"Account Number : \" , self.accountNumber)\n",
    "        print(\"Account Name : \" , self.name)\n",
    "        print(\"Account Balance : \" , self.balance)\n",
    "        \n",
    "# Testing the code :\n",
    "newAccount = BankAccount(2178514584, \"ANJANA\" , 27000)\n",
    "# Creating Withdrawal Test\n",
    "newAccount.Withdrawal(300)\n",
    "# Create deposit test\n",
    "newAccount.Deposit(200)\n",
    "# Display account informations\n",
    "newAccount.display()"
   ]
  },
  {
   "cell_type": "markdown",
   "id": "90345dae",
   "metadata": {},
   "source": [
    "10. Create a base class rectangle with attributes length and breadth, methods\n",
    "area and perimeter.\n",
    "a. Save the rectangle class as a python file rectangle.py file.\n",
    "b. Open another python script and import the rectangle.py file.\n",
    "c. In the newly created script derive a child class called Parallelepiped\n",
    "class inheriting from the Rectangle class and with a height attribute\n",
    "and another Volume() method to calculate the volume of the\n",
    "Parallelepiped.\n",
    "d. Now create objects for parent class and child class in newly created\n",
    "script and access methods of parent class and child class.\n",
    "(Upload the rectangle.py file and python script of question 10 as\n",
    "separate files in github and share the link Paatshala)"
   ]
  },
  {
   "cell_type": "code",
   "execution_count": null,
   "id": "57f7eb81",
   "metadata": {},
   "outputs": [],
   "source": [
    "lass rectangle(polygon):\n",
    "    def __init__(self,l,b):\n",
    "        self.l=l\n",
    "        self.b=b\n",
    "        \n",
    "    def area(self):\n",
    "        return(self.l*self.b)\n",
    "    \n",
    "    def perimeter(self):\n",
    "        return(2*(self.l+self.b))"
   ]
  },
  {
   "cell_type": "code",
   "execution_count": null,
   "id": "062c1b0d",
   "metadata": {},
   "outputs": [],
   "source": []
  },
  {
   "cell_type": "code",
   "execution_count": null,
   "id": "995e5cfe",
   "metadata": {},
   "outputs": [],
   "source": []
  },
  {
   "cell_type": "code",
   "execution_count": null,
   "id": "87d57dc6",
   "metadata": {},
   "outputs": [],
   "source": []
  },
  {
   "cell_type": "code",
   "execution_count": null,
   "id": "4f4af3cb",
   "metadata": {},
   "outputs": [],
   "source": []
  }
 ],
 "metadata": {
  "kernelspec": {
   "display_name": "Python 3 (ipykernel)",
   "language": "python",
   "name": "python3"
  },
  "language_info": {
   "codemirror_mode": {
    "name": "ipython",
    "version": 3
   },
   "file_extension": ".py",
   "mimetype": "text/x-python",
   "name": "python",
   "nbconvert_exporter": "python",
   "pygments_lexer": "ipython3",
   "version": "3.9.13"
  }
 },
 "nbformat": 4,
 "nbformat_minor": 5
}
